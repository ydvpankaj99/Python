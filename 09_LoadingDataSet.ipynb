{
  "nbformat": 4,
  "nbformat_minor": 0,
  "metadata": {
    "colab": {
      "name": "09.LoadingDataSet.ipynb",
      "provenance": [],
      "collapsed_sections": [],
      "include_colab_link": true
    },
    "kernelspec": {
      "name": "python3",
      "display_name": "Python 3"
    },
    "language_info": {
      "name": "python"
    }
  },
  "cells": [
    {
      "cell_type": "markdown",
      "metadata": {
        "id": "view-in-github",
        "colab_type": "text"
      },
      "source": [
        "<a href=\"https://colab.research.google.com/github/ydvpankaj99/Python/blob/master/09_LoadingDataSet.ipynb\" target=\"_parent\"><img src=\"https://colab.research.google.com/assets/colab-badge.svg\" alt=\"Open In Colab\"/></a>"
      ]
    },
    {
      "cell_type": "markdown",
      "source": [
        "# Load From Google Cloud"
      ],
      "metadata": {
        "id": "Ez9VsKmEA-Bq"
      }
    },
    {
      "cell_type": "code",
      "execution_count": null,
      "metadata": {
        "id": "NTVLi0X69Ewv"
      },
      "outputs": [],
      "source": [
        "!pip install pyspark"
      ]
    },
    {
      "cell_type": "code",
      "source": [
        "from pyspark.sql import SparkSession\n",
        "spark=SparkSession.builder.master(\"local[1]\").appName(\"test.com\").getOrCreate()"
      ],
      "metadata": {
        "id": "iP_Zz86TBIAp"
      },
      "execution_count": null,
      "outputs": []
    },
    {
      "cell_type": "code",
      "source": [
        "#Step1: Set the enviroment variables\n",
        "####################################\n",
        "import os\n",
        "os.environ['KAGGLE_USERNAME'] = \"mujahedtrainer\"  #manually input My_Kaggle User_Name \n",
        "os.environ['KAGGLE_KEY'] = \"b6dce1d893c3af0105339db250d75201\"  #manually input My_Kaggle Key "
      ],
      "metadata": {
        "id": "q2rLVe9EBiDF"
      },
      "execution_count": null,
      "outputs": []
    },
    {
      "cell_type": "code",
      "source": [
        "!pip install -q kaggle "
      ],
      "metadata": {
        "id": "pf6JskxPQyOJ"
      },
      "execution_count": null,
      "outputs": []
    },
    {
      "cell_type": "code",
      "source": [
        "#Authentication\n",
        "from kaggle.api.kaggle_api_extended import KaggleApi\n",
        "api=KaggleApi()\n",
        "api.authenticate()"
      ],
      "metadata": {
        "id": "N5cwvOU2Q0E3"
      },
      "execution_count": null,
      "outputs": []
    },
    {
      "cell_type": "code",
      "source": [
        "api.dataset_list(file_type=\"csv\")"
      ],
      "metadata": {
        "id": "QT7QEtSQRLmc"
      },
      "execution_count": null,
      "outputs": []
    },
    {
      "cell_type": "code",
      "source": [
        "api.dataset_download_file(\"mujahedtrainer/automobile\",\"automobile.csv\",path=\"/content/am/\")"
      ],
      "metadata": {
        "colab": {
          "base_uri": "https://localhost:8080/"
        },
        "id": "7D14yTCDSe30",
        "outputId": "207a8771-bd60-442f-b34b-8fc468874b2b"
      },
      "execution_count": null,
      "outputs": [
        {
          "output_type": "execute_result",
          "data": {
            "text/plain": [
              "True"
            ]
          },
          "metadata": {},
          "execution_count": 12
        }
      ]
    },
    {
      "cell_type": "code",
      "source": [
        "!ls /content/am/"
      ],
      "metadata": {
        "colab": {
          "base_uri": "https://localhost:8080/"
        },
        "id": "rZb90M2mR9pf",
        "outputId": "e4a2e788-6bc2-4600-cef5-823f71f87059"
      },
      "execution_count": null,
      "outputs": [
        {
          "output_type": "stream",
          "name": "stdout",
          "text": [
            "automobile.csv\n"
          ]
        }
      ]
    },
    {
      "cell_type": "code",
      "source": [
        "strPath=\"/content/am/automobile.csv\"\n",
        "import pandas as pd\n",
        "df=pd.read_csv(strPath)"
      ],
      "metadata": {
        "id": "ub0RzRucS8MX"
      },
      "execution_count": null,
      "outputs": []
    },
    {
      "cell_type": "code",
      "source": [
        "strPath=\"https://raw.githubusercontent.com/NubeEra-Samples/DataSets/master/duplicateData.csv\"\n",
        "dfPandas=pd.read_csv(strPath)\n",
        "dfSpark=spark.createDataFrame(dfPandas)\n",
        "dfSpark.show()"
      ],
      "metadata": {
        "colab": {
          "base_uri": "https://localhost:8080/"
        },
        "id": "DFAwV3ajWjr2",
        "outputId": "d69d365b-6951-4c00-d37e-b5a8591ca998"
      },
      "execution_count": null,
      "outputs": [
        {
          "output_type": "stream",
          "name": "stdout",
          "text": [
            "+-------------+-----+\n",
            "|         name|value|\n",
            "+-------------+-----+\n",
            "|    'Project'|    1|\n",
            "|'Gutenberg’s'|    1|\n",
            "|    'Alice’s'|    1|\n",
            "| 'Adventures'|    1|\n",
            "|         'in'|    1|\n",
            "| 'Wonderland'|    1|\n",
            "|    'Project'|    1|\n",
            "|'Gutenberg’s'|    1|\n",
            "| 'Adventures'|    1|\n",
            "|         'in'|    1|\n",
            "| 'Wonderland'|    1|\n",
            "|    'Project'|    1|\n",
            "|'Gutenberg’s'|    1|\n",
            "+-------------+-----+\n",
            "\n"
          ]
        }
      ]
    },
    {
      "cell_type": "code",
      "source": [
        "reducingLambda=lambda a,b:a+b\n",
        "\n",
        "rdd1=dfSpark.rdd\n",
        "print(rdd1.collect())"
      ],
      "metadata": {
        "id": "iu2FPsZRWugc",
        "colab": {
          "base_uri": "https://localhost:8080/"
        },
        "outputId": "c8896456-9859-4871-a991-a36628a8bdea"
      },
      "execution_count": null,
      "outputs": [
        {
          "output_type": "stream",
          "name": "stdout",
          "text": [
            "[Row(name=\"'Project'\", value=1), Row(name=\"'Gutenberg’s'\", value=1), Row(name=\"'Alice’s'\", value=1), Row(name=\"'Adventures'\", value=1), Row(name=\"'in'\", value=1), Row(name=\"'Wonderland'\", value=1), Row(name=\"'Project'\", value=1), Row(name=\"'Gutenberg’s'\", value=1), Row(name=\"'Adventures'\", value=1), Row(name=\"'in'\", value=1), Row(name=\"'Wonderland'\", value=1), Row(name=\"'Project'\", value=1), Row(name=\"'Gutenberg’s'\", value=1)]\n"
          ]
        }
      ]
    },
    {
      "cell_type": "code",
      "source": [
        "rdd2=rdd1.reduceByKey(reducingLambda)\n",
        "for element in rdd2.collect():\n",
        "  print(element)"
      ],
      "metadata": {
        "colab": {
          "base_uri": "https://localhost:8080/"
        },
        "id": "3C3rLHSUcJ2Q",
        "outputId": "f79b8c62-c3a7-497d-f0a5-16672a878b06"
      },
      "execution_count": null,
      "outputs": [
        {
          "output_type": "stream",
          "name": "stdout",
          "text": [
            "(\"'Project'\", 3)\n",
            "(\"'Gutenberg’s'\", 3)\n",
            "(\"'Alice’s'\", 1)\n",
            "(\"'Adventures'\", 2)\n",
            "(\"'in'\", 2)\n",
            "(\"'Wonderland'\", 2)\n"
          ]
        }
      ]
    },
    {
      "cell_type": "code",
      "source": [
        ""
      ],
      "metadata": {
        "id": "cff5ZAFWchI9"
      },
      "execution_count": null,
      "outputs": []
    }
  ]
}